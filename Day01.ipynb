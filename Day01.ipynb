{
 "cells": [
  {
   "cell_type": "code",
   "execution_count": null,
   "metadata": {},
   "outputs": [],
   "source": [
    "num1 = input('Enter first number')\n",
    "num2 = input('Enter second number')\n",
    "print('Sum is ',num1+num2)"
   ]
  },
  {
   "cell_type": "code",
   "execution_count": null,
   "metadata": {},
   "outputs": [],
   "source": [
    "radius = input('Enter radius of circle')\n",
    "print('Area of circle is ',3.14 *radius*radius)"
   ]
  },
  {
   "cell_type": "code",
   "execution_count": null,
   "metadata": {},
   "outputs": [],
   "source": [
    "num = input('Enter number')\n",
    "if(num%2==0):\n",
    "    print('Number is even')\n",
    "else\n",
    "    print('Number is odd')\n"
   ]
  },
  {
   "cell_type": "code",
   "execution_count": null,
   "metadata": {},
   "outputs": [],
   "source": [
    "num1 = input('Enter first number')\n",
    "num2 = input('Enter second number')\n",
    "oprator = input('Enter operator')\n",
    "if(oprator == '+'):\n",
    "    print('Sum is ',num1+num2)\n",
    "if(oprator == '-'):\n",
    "    print('Difference is ',num1-num2)\n",
    "if(oprator == '*'):\n",
    "    print('Product is ',num1*num2)\n",
    "if(oprator == '/'):\n",
    "    print('Division is ',num1/num2)\n"
   ]
  },
  {
   "cell_type": "code",
   "execution_count": null,
   "metadata": {},
   "outputs": [],
   "source": [
    "num1 = input('Enter first number')\n",
    "num2 = input('Enter second number')\n",
    "num3 = input('Enter second number')\n",
    "\n",
    "print('Largest number is ',max(num1,num2,num3))"
   ]
  },
  {
   "cell_type": "code",
   "execution_count": null,
   "metadata": {},
   "outputs": [],
   "source": [
    "reverse = input('Enter string')\n",
    "print('The reverse string is :', reverse[::-1])"
   ]
  },
  {
   "cell_type": "code",
   "execution_count": null,
   "metadata": {},
   "outputs": [],
   "source": [
    "string = input('Enter string')\n",
    "vowels = \"aeiouAEIOU\"\n",
    "\n",
    "count = sum(string.count(vowel) for vowel in vowels)\n",
    "print(count)\n"
   ]
  },
  {
   "cell_type": "code",
   "execution_count": null,
   "metadata": {},
   "outputs": [],
   "source": [
    "num = input('How many terms?')\n",
    "num1 , num2 = 0 ,1\n",
    "count = 1\n",
    "while(num >= count):\n",
    "    print(num1,end=\" \")\n",
    "    num1 , num2 = num2 , num1 + num2 \n"
   ]
  },
  {
   "cell_type": "code",
   "execution_count": null,
   "metadata": {},
   "outputs": [],
   "source": [
    "palindrom = input('Enter number')\n",
    "if(palindrom == palindrom[::-1]):\n",
    "    print('Palindrom')\n",
    "else:\n",
    "    print('not palindrom')"
   ]
  },
  {
   "cell_type": "code",
   "execution_count": null,
   "metadata": {},
   "outputs": [],
   "source": []
  }
 ],
 "metadata": {
  "language_info": {
   "name": "python"
  }
 },
 "nbformat": 4,
 "nbformat_minor": 2
}
